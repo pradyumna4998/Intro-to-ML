{
  "cells": [
    {
      "cell_type": "markdown",
      "metadata": {
        "id": "view-in-github",
        "colab_type": "text"
      },
      "source": [
        "<a href=\"https://colab.research.google.com/github/pradyumna4998/Intro-to-ML/blob/main/HW7_Q2_Intro_to_ML.ipynb\" target=\"_parent\"><img src=\"https://colab.research.google.com/assets/colab-badge.svg\" alt=\"Open In Colab\"/></a>"
      ]
    },
    {
      "cell_type": "markdown",
      "source": [
        "Name: V.pradyumna\n",
        "\n",
        "student Id: 801345963"
      ],
      "metadata": {
        "id": "bMP_iYyWerF4"
      }
    },
    {
      "cell_type": "code",
      "execution_count": null,
      "metadata": {
        "colab": {
          "base_uri": "https://localhost:8080/"
        },
        "id": "8LsajevC6-1p",
        "outputId": "9b67328a-3e03-4044-d195-8d0be82106af"
      },
      "outputs": [
        {
          "name": "stdout",
          "output_type": "stream",
          "text": [
            "Requirement already satisfied: ipython-autotime in /Library/Frameworks/Python.framework/Versions/3.12/lib/python3.12/site-packages (0.3.2)\n",
            "Requirement already satisfied: ipython in /Users/gnanaprakashnarayanairivisetty/Library/Python/3.12/lib/python/site-packages (from ipython-autotime) (8.27.0)\n",
            "Requirement already satisfied: decorator in /Users/gnanaprakashnarayanairivisetty/Library/Python/3.12/lib/python/site-packages (from ipython->ipython-autotime) (5.1.1)\n",
            "Requirement already satisfied: jedi>=0.16 in /Users/gnanaprakashnarayanairivisetty/Library/Python/3.12/lib/python/site-packages (from ipython->ipython-autotime) (0.19.1)\n",
            "Requirement already satisfied: matplotlib-inline in /Users/gnanaprakashnarayanairivisetty/Library/Python/3.12/lib/python/site-packages (from ipython->ipython-autotime) (0.1.7)\n",
            "Requirement already satisfied: prompt-toolkit<3.1.0,>=3.0.41 in /Users/gnanaprakashnarayanairivisetty/Library/Python/3.12/lib/python/site-packages (from ipython->ipython-autotime) (3.0.47)\n",
            "Requirement already satisfied: pygments>=2.4.0 in /Users/gnanaprakashnarayanairivisetty/Library/Python/3.12/lib/python/site-packages (from ipython->ipython-autotime) (2.18.0)\n",
            "Requirement already satisfied: stack-data in /Users/gnanaprakashnarayanairivisetty/Library/Python/3.12/lib/python/site-packages (from ipython->ipython-autotime) (0.6.3)\n",
            "Requirement already satisfied: traitlets>=5.13.0 in /Users/gnanaprakashnarayanairivisetty/Library/Python/3.12/lib/python/site-packages (from ipython->ipython-autotime) (5.14.3)\n",
            "Requirement already satisfied: pexpect>4.3 in /Users/gnanaprakashnarayanairivisetty/Library/Python/3.12/lib/python/site-packages (from ipython->ipython-autotime) (4.9.0)\n",
            "Requirement already satisfied: parso<0.9.0,>=0.8.3 in /Users/gnanaprakashnarayanairivisetty/Library/Python/3.12/lib/python/site-packages (from jedi>=0.16->ipython->ipython-autotime) (0.8.4)\n",
            "Requirement already satisfied: ptyprocess>=0.5 in /Users/gnanaprakashnarayanairivisetty/Library/Python/3.12/lib/python/site-packages (from pexpect>4.3->ipython->ipython-autotime) (0.7.0)\n",
            "Requirement already satisfied: wcwidth in /Users/gnanaprakashnarayanairivisetty/Library/Python/3.12/lib/python/site-packages (from prompt-toolkit<3.1.0,>=3.0.41->ipython->ipython-autotime) (0.2.13)\n",
            "Requirement already satisfied: executing>=1.2.0 in /Users/gnanaprakashnarayanairivisetty/Library/Python/3.12/lib/python/site-packages (from stack-data->ipython->ipython-autotime) (2.1.0)\n",
            "Requirement already satisfied: asttokens>=2.1.0 in /Users/gnanaprakashnarayanairivisetty/Library/Python/3.12/lib/python/site-packages (from stack-data->ipython->ipython-autotime) (2.4.1)\n",
            "Requirement already satisfied: pure-eval in /Users/gnanaprakashnarayanairivisetty/Library/Python/3.12/lib/python/site-packages (from stack-data->ipython->ipython-autotime) (0.2.3)\n",
            "Requirement already satisfied: six>=1.12.0 in /Users/gnanaprakashnarayanairivisetty/Library/Python/3.12/lib/python/site-packages (from asttokens>=2.1.0->stack-data->ipython->ipython-autotime) (1.16.0)\n",
            "time: 96.4 μs (started: 2024-12-05 22:17:54 -05:00)\n"
          ]
        }
      ],
      "source": [
        "!pip install ipython-autotime\n",
        "%load_ext autotime"
      ]
    },
    {
      "cell_type": "code",
      "execution_count": null,
      "metadata": {
        "colab": {
          "base_uri": "https://localhost:8080/"
        },
        "id": "kAnWygYL7LD9",
        "outputId": "ed36ba46-1ee3-43e4-e9f9-ff7941cdaaf9"
      },
      "outputs": [
        {
          "name": "stdout",
          "output_type": "stream",
          "text": [
            "time: 1.8 s (started: 2024-12-05 22:17:54 -05:00)\n"
          ]
        }
      ],
      "source": [
        "import os\n",
        "import torch\n",
        "import torch.nn as nn\n",
        "import torch.optim as optim\n",
        "from torch.utils.data import DataLoader, TensorDataset\n",
        "from torchvision import datasets, transforms\n",
        "from sklearn.model_selection import train_test_split\n",
        "from sklearn.preprocessing import StandardScaler\n",
        "import pandas as pd\n",
        "import numpy as np\n",
        "import matplotlib.pyplot as plt\n",
        "from sklearn.metrics import precision_score, recall_score, accuracy_score, confusion_matrix, classification_report\n",
        "import seaborn as sns\n",
        "\n",
        "torch.set_printoptions(edgeitems=2)\n",
        "torch.manual_seed(123)\n",
        "np.random.seed(123)"
      ]
    },
    {
      "cell_type": "code",
      "execution_count": null,
      "metadata": {
        "colab": {
          "base_uri": "https://localhost:8080/"
        },
        "id": "LYbBRWWi7RWY",
        "outputId": "ffc4de3d-e8c3-4853-a138-fee48b7eef75"
      },
      "outputs": [
        {
          "data": {
            "text/plain": [
              "device(type='cpu')"
            ]
          },
          "execution_count": 3,
          "metadata": {},
          "output_type": "execute_result"
        },
        {
          "name": "stdout",
          "output_type": "stream",
          "text": [
            "time: 2.8 ms (started: 2024-12-05 22:17:55 -05:00)\n"
          ]
        }
      ],
      "source": [
        " # Set device\n",
        "device = torch.device(\"cuda\" if torch.cuda.is_available() else \"cpu\")\n",
        "device"
      ]
    },
    {
      "cell_type": "code",
      "execution_count": null,
      "metadata": {
        "colab": {
          "base_uri": "https://localhost:8080/"
        },
        "id": "Spwr8VXm7c5u",
        "outputId": "3f622419-cb0e-449a-8fdf-d431b66553eb"
      },
      "outputs": [
        {
          "name": "stdout",
          "output_type": "stream",
          "text": [
            "time: 438 μs (started: 2024-12-05 22:17:55 -05:00)\n"
          ]
        }
      ],
      "source": [
        "import os\n",
        "os.environ['CUDA_LAUNCH_BLOCKING'] = \"1\""
      ]
    },
    {
      "cell_type": "code",
      "execution_count": null,
      "metadata": {
        "colab": {
          "base_uri": "https://localhost:8080/"
        },
        "id": "VlkSew-B7iNw",
        "outputId": "0713268b-e010-4966-9cef-ae87e987cbbf"
      },
      "outputs": [
        {
          "name": "stdout",
          "output_type": "stream",
          "text": [
            "Files already downloaded and verified\n",
            "time: 2.63 s (started: 2024-12-05 22:17:55 -05:00)\n"
          ]
        }
      ],
      "source": [
        "training_dataset = datasets.CIFAR10(root='./data', train=True, download=True, transform=transforms.ToTensor())\n",
        "\n",
        "# Calculate mean and standard(std)\n",
        "images = torch.stack([img_t for img_t, _ in training_dataset], dim=3)\n",
        "mean = images.view(3, -1).mean(dim=1)\n",
        "std = images.view(3, -1).std(dim=1)"
      ]
    },
    {
      "cell_type": "code",
      "execution_count": null,
      "metadata": {
        "colab": {
          "base_uri": "https://localhost:8080/"
        },
        "id": "DCEKj_i57kiB",
        "outputId": "82e06d4f-e936-4763-8a81-49667573a5ff"
      },
      "outputs": [
        {
          "data": {
            "text/plain": [
              "tensor([0.4914, 0.4822, 0.4465])"
            ]
          },
          "execution_count": 6,
          "metadata": {},
          "output_type": "execute_result"
        },
        {
          "name": "stdout",
          "output_type": "stream",
          "text": [
            "time: 5.15 ms (started: 2024-12-05 22:17:58 -05:00)\n"
          ]
        }
      ],
      "source": [
        "mean"
      ]
    },
    {
      "cell_type": "code",
      "execution_count": null,
      "metadata": {
        "colab": {
          "base_uri": "https://localhost:8080/"
        },
        "id": "_RDU-VcB7pWX",
        "outputId": "ae8ec145-3726-43fa-dcdc-08090e9e58f0"
      },
      "outputs": [
        {
          "data": {
            "text/plain": [
              "tensor([0.2470, 0.2435, 0.2616])"
            ]
          },
          "execution_count": 7,
          "metadata": {},
          "output_type": "execute_result"
        },
        {
          "name": "stdout",
          "output_type": "stream",
          "text": [
            "time: 3.61 ms (started: 2024-12-05 22:17:58 -05:00)\n"
          ]
        }
      ],
      "source": [
        "std"
      ]
    },
    {
      "cell_type": "code",
      "execution_count": null,
      "metadata": {
        "colab": {
          "base_uri": "https://localhost:8080/"
        },
        "id": "wFUfmnC37q_i",
        "outputId": "6e6f0afd-9fff-4684-be8b-af4e14cff682"
      },
      "outputs": [
        {
          "name": "stdout",
          "output_type": "stream",
          "text": [
            "time: 373 ms (started: 2024-12-05 22:17:58 -05:00)\n"
          ]
        }
      ],
      "source": [
        "cifar10 = datasets.CIFAR10(\n",
        "    './data', train=True, download=False,\n",
        "    transform=transforms.Compose([\n",
        "        transforms.ToTensor(),\n",
        "        transforms.Normalize((0.4914, 0.4822, 0.4465),\n",
        "                             (0.2470, 0.2435, 0.2616))\n",
        "    ]))"
      ]
    },
    {
      "cell_type": "code",
      "execution_count": null,
      "metadata": {
        "colab": {
          "base_uri": "https://localhost:8080/"
        },
        "id": "ZWWnJ1dK7uQp",
        "outputId": "7f4f1276-5cce-4f20-97be-f6c609e2fbd7"
      },
      "outputs": [
        {
          "name": "stdout",
          "output_type": "stream",
          "text": [
            "time: 328 ms (started: 2024-12-05 22:17:58 -05:00)\n"
          ]
        }
      ],
      "source": [
        "cifar10_val = datasets.CIFAR10(\n",
        "     './data', train=False, download=False,\n",
        "    transform=transforms.Compose([\n",
        "        transforms.ToTensor(),\n",
        "        transforms.Normalize((0.4914, 0.4822, 0.4465),\n",
        "                             (0.2470, 0.2435, 0.2616))\n",
        "    ]))"
      ]
    },
    {
      "cell_type": "code",
      "execution_count": null,
      "metadata": {
        "colab": {
          "base_uri": "https://localhost:8080/"
        },
        "id": "3CnSGBvt7xJK",
        "outputId": "04db7dc0-352e-486c-cffb-58f4af9f2545"
      },
      "outputs": [
        {
          "name": "stdout",
          "output_type": "stream",
          "text": [
            "time: 383 μs (started: 2024-12-05 22:17:59 -05:00)\n"
          ]
        }
      ],
      "source": [
        "training_loader = DataLoader(cifar10, batch_size=32, shuffle=True, num_workers=2)\n",
        "testing_loader = DataLoader(cifar10_val, batch_size=32, shuffle=False, num_workers=2)"
      ]
    },
    {
      "cell_type": "code",
      "execution_count": null,
      "metadata": {
        "colab": {
          "base_uri": "https://localhost:8080/"
        },
        "id": "OH74OLFa71ed",
        "outputId": "d2968110-dcf1-4d33-d6ac-275aa18754eb"
      },
      "outputs": [
        {
          "name": "stdout",
          "output_type": "stream",
          "text": [
            "time: 176 μs (started: 2024-12-05 22:17:59 -05:00)\n"
          ]
        }
      ],
      "source": [
        "class_names = ['airplane','automobile','bird','cat','deer','dog','frog','horse','ship','truck']"
      ]
    },
    {
      "cell_type": "code",
      "execution_count": null,
      "metadata": {
        "colab": {
          "base_uri": "https://localhost:8080/"
        },
        "id": "dCb-Te-p75h0",
        "outputId": "10139218-c1ff-4d35-a1bb-ee294b21e8bf"
      },
      "outputs": [
        {
          "name": "stdout",
          "output_type": "stream",
          "text": [
            "2.5.1\n",
            "time: 130 μs (started: 2024-12-05 22:17:59 -05:00)\n"
          ]
        }
      ],
      "source": [
        "print(torch.__version__)"
      ]
    },
    {
      "cell_type": "code",
      "execution_count": null,
      "metadata": {
        "colab": {
          "base_uri": "https://localhost:8080/"
        },
        "id": "3Ivm1AH878F2",
        "outputId": "c6a5f928-29e4-4ea3-ca79-199adfdce5d4"
      },
      "outputs": [
        {
          "name": "stdout",
          "output_type": "stream",
          "text": [
            "time: 1.06 ms (started: 2024-12-05 22:17:59 -05:00)\n"
          ]
        }
      ],
      "source": [
        "\n",
        "import datetime\n",
        "def training_loop(epochs, optimizer, model, loss_function, training_loader):\n",
        "    for epoch in range(1, epochs + 1):\n",
        "        training_loss = 0.0\n",
        "        for images, labels in training_loader:\n",
        "            images = images.to(device=device)  # <1>\n",
        "            labels = labels.to(device=device)\n",
        "            outputs = model(images)\n",
        "            loss = loss_function(outputs, labels)\n",
        "\n",
        "            optimizer.zero_grad()\n",
        "            loss.backward()\n",
        "            optimizer.step()\n",
        "\n",
        "            training_loss += loss.item()\n",
        "\n",
        "        if epoch == 1 or epoch % 2 == 0:\n",
        "            print('{} Epoch {}, Training loss {}'.format(\n",
        "                datetime.datetime.now(), epoch,\n",
        "                training_loss / len(training_loader)))\n",
        "\n"
      ]
    },
    {
      "cell_type": "code",
      "execution_count": null,
      "metadata": {
        "colab": {
          "base_uri": "https://localhost:8080/"
        },
        "id": "40RrByFm8Ad5",
        "outputId": "49b99b3a-5414-4c6d-c5a9-d6af004ec7d0"
      },
      "outputs": [
        {
          "name": "stdout",
          "output_type": "stream",
          "text": [
            "time: 1.7 ms (started: 2024-12-05 22:17:59 -05:00)\n"
          ]
        }
      ],
      "source": [
        "class Residual_Block(nn.Module):\n",
        "    def __init__(self, n_chans):\n",
        "        super(Residual_Block, self).__init__()\n",
        "        self.conv = nn.Conv2d(n_chans, n_chans, kernel_size=3,\n",
        "                              padding=1, bias=False)  # <1>\n",
        "        self.batch_norm = nn.BatchNorm2d(num_features=n_chans)\n",
        "        torch.nn.init.kaiming_normal_(self.conv.weight,\n",
        "                                      nonlinearity='relu')  # <2>\n",
        "        torch.nn.init.constant_(self.batch_norm.weight, 0.5)\n",
        "        torch.nn.init.zeros_(self.batch_norm.bias)\n",
        "\n",
        "    def forward(self, x):\n",
        "        out = self.conv(x)\n",
        "        out = self.batch_norm(out)\n",
        "        out = torch.relu(out)\n",
        "        return out + x"
      ]
    },
    {
      "cell_type": "code",
      "execution_count": null,
      "metadata": {
        "colab": {
          "base_uri": "https://localhost:8080/"
        },
        "id": "IGpyEzK88EQb",
        "outputId": "ece21560-42fb-43f7-b1b1-a0ab1108cac6"
      },
      "outputs": [
        {
          "name": "stdout",
          "output_type": "stream",
          "text": [
            "time: 593 μs (started: 2024-12-05 22:17:59 -05:00)\n"
          ]
        }
      ],
      "source": [
        "\n",
        "import torch.nn.functional as F\n",
        "class NetResDeep(nn.Module):\n",
        "    def __init__(self, n_chans1=32, n_blocks=10):\n",
        "        super().__init__()\n",
        "        self.n_chans1 = n_chans1\n",
        "        self.conv1 = nn.Conv2d(3, n_chans1, kernel_size=3, padding=1)\n",
        "        self.resblocks = nn.Sequential(\n",
        "            *(n_blocks * [Residual_Block(n_chans=n_chans1)]))\n",
        "        self.fc1 = nn.Linear(8 * 8 * n_chans1, 32)\n",
        "        self.fc2 = nn.Linear(32, 10)\n",
        "\n",
        "    def forward(self, x):\n",
        "        out = F.max_pool2d(torch.relu(self.conv1(x)), 2)\n",
        "        out = self.resblocks(out)\n",
        "        out = F.max_pool2d(out, 2)\n",
        "        out = out.view(-1, 8 * 8 * self.n_chans1)\n",
        "        out = torch.relu(self.fc1(out))\n",
        "        out = self.fc2(out)\n",
        "        return out"
      ]
    },
    {
      "cell_type": "code",
      "execution_count": null,
      "metadata": {
        "colab": {
          "base_uri": "https://localhost:8080/"
        },
        "id": "aCj-O_BJ8KKl",
        "outputId": "d3583674-bc69-46f9-d1dc-d8d68c4565bd"
      },
      "outputs": [
        {
          "data": {
            "text/plain": [
              "device(type='cpu')"
            ]
          },
          "execution_count": 16,
          "metadata": {},
          "output_type": "execute_result"
        },
        {
          "name": "stdout",
          "output_type": "stream",
          "text": [
            "time: 2.14 ms (started: 2024-12-05 22:17:59 -05:00)\n"
          ]
        }
      ],
      "source": [
        "device"
      ]
    },
    {
      "cell_type": "code",
      "execution_count": null,
      "metadata": {
        "colab": {
          "base_uri": "https://localhost:8080/"
        },
        "id": "d4R0p8Eo8My-",
        "outputId": "3d2d17e4-cd2d-4c7f-fedd-6b0df0e4e36e"
      },
      "outputs": [
        {
          "name": "stdout",
          "output_type": "stream",
          "text": [
            "2024-12-05 22:19:35.447654 Epoch 1, Training loss 1.580204714015746\n",
            "2024-12-05 22:21:19.120756 Epoch 2, Training loss 1.2759407428084317\n",
            "2024-12-05 22:24:42.954484 Epoch 4, Training loss 1.069437035595997\n",
            "2024-12-05 22:28:14.340506 Epoch 6, Training loss 0.9455082878155809\n",
            "2024-12-05 22:31:47.269249 Epoch 8, Training loss 0.8655828677227462\n",
            "2024-12-05 22:35:29.860798 Epoch 10, Training loss 0.8056326306598429\n",
            "2024-12-05 22:39:26.714407 Epoch 12, Training loss 0.7557469299033294\n",
            "2024-12-05 22:43:17.690768 Epoch 14, Training loss 0.7110495313916234\n",
            "2024-12-05 22:47:32.716469 Epoch 16, Training loss 0.6728168770489751\n",
            "2024-12-05 22:51:29.313126 Epoch 18, Training loss 0.6376248637091557\n",
            "2024-12-05 22:55:33.683729 Epoch 20, Training loss 0.6002947187488535\n",
            "2024-12-05 22:59:38.117036 Epoch 22, Training loss 0.5720548164707228\n",
            "2024-12-05 23:03:37.925190 Epoch 24, Training loss 0.540243014759996\n",
            "2024-12-05 23:07:40.123597 Epoch 26, Training loss 0.5118897078905591\n",
            "2024-12-05 23:11:43.410048 Epoch 28, Training loss 0.48778119016383903\n",
            "2024-12-05 23:16:49.215747 Epoch 30, Training loss 0.45850020587463375\n",
            "2024-12-05 23:21:30.059767 Epoch 32, Training loss 0.4384774769717733\n",
            "2024-12-05 23:25:47.081955 Epoch 34, Training loss 0.411472217435457\n",
            "2024-12-05 23:30:04.522533 Epoch 36, Training loss 0.3878500283250653\n",
            "2024-12-05 23:34:20.986371 Epoch 38, Training loss 0.3676087649602274\n",
            "2024-12-05 23:38:37.015097 Epoch 40, Training loss 0.3473190481363964\n",
            "2024-12-05 23:42:51.427128 Epoch 42, Training loss 0.3311676557866412\n",
            "2024-12-05 23:47:03.630985 Epoch 44, Training loss 0.30985777612992454\n",
            "2024-12-05 23:51:09.012518 Epoch 46, Training loss 0.2933115839900989\n",
            "2024-12-05 23:55:54.322396 Epoch 48, Training loss 0.2817084063285448\n",
            "2024-12-06 00:01:01.298293 Epoch 50, Training loss 0.2638245541101854\n",
            "2024-12-06 00:05:07.386935 Epoch 52, Training loss 0.2536612532279732\n",
            "2024-12-06 00:09:10.802451 Epoch 54, Training loss 0.23825266298147363\n",
            "2024-12-06 00:13:14.367140 Epoch 56, Training loss 0.23160461874312877\n",
            "2024-12-06 00:17:21.847371 Epoch 58, Training loss 0.21759436370343713\n",
            "2024-12-06 00:21:26.052074 Epoch 60, Training loss 0.2041638836339688\n",
            "2024-12-06 00:25:29.358384 Epoch 62, Training loss 0.19554323354236644\n",
            "2024-12-06 00:29:31.529667 Epoch 64, Training loss 0.18532119774791725\n",
            "2024-12-06 00:33:37.594427 Epoch 66, Training loss 0.17629675036838477\n",
            "2024-12-06 00:37:42.255062 Epoch 68, Training loss 0.16775015988151804\n",
            "2024-12-06 00:41:46.578539 Epoch 70, Training loss 0.1646059814272109\n",
            "2024-12-06 00:45:48.895688 Epoch 72, Training loss 0.16457646138494167\n",
            "2024-12-06 00:49:46.160070 Epoch 74, Training loss 0.14587983421853823\n",
            "2024-12-06 00:53:49.085684 Epoch 76, Training loss 0.1486809856984681\n",
            "2024-12-06 00:57:47.527519 Epoch 78, Training loss 0.14124442054368722\n",
            "2024-12-06 01:01:43.847739 Epoch 80, Training loss 0.1256140027274464\n",
            "2024-12-06 01:05:37.441003 Epoch 82, Training loss 0.13647188743313038\n",
            "2024-12-06 01:09:29.245735 Epoch 84, Training loss 0.12402877306043673\n",
            "2024-12-06 01:13:23.213839 Epoch 86, Training loss 0.10896858318276245\n",
            "2024-12-06 01:17:17.636021 Epoch 88, Training loss 0.1239308013413304\n",
            "2024-12-06 01:21:10.444975 Epoch 90, Training loss 0.11043978381800088\n",
            "2024-12-06 01:25:01.838569 Epoch 92, Training loss 0.101903457544632\n",
            "2024-12-06 01:28:52.832629 Epoch 94, Training loss 0.10728338167088622\n",
            "2024-12-06 01:32:41.310645 Epoch 96, Training loss 0.1015734071442613\n",
            "2024-12-06 01:36:20.374829 Epoch 98, Training loss 0.09621593275215293\n",
            "2024-12-06 01:40:02.692968 Epoch 100, Training loss 0.09162484216678086\n",
            "2024-12-06 01:43:48.698841 Epoch 102, Training loss 0.08509374949129975\n",
            "2024-12-06 01:47:36.971409 Epoch 104, Training loss 0.0833651776609064\n",
            "2024-12-06 01:51:28.711366 Epoch 106, Training loss 0.08804674740861064\n",
            "2024-12-06 01:55:15.402678 Epoch 108, Training loss 0.08442318328200128\n",
            "2024-12-06 01:59:02.743994 Epoch 110, Training loss 0.08377222416793074\n",
            "2024-12-06 02:02:51.693982 Epoch 112, Training loss 0.08657862037896659\n",
            "2024-12-06 02:06:37.808976 Epoch 114, Training loss 0.0785003465438537\n",
            "2024-12-06 02:10:16.861414 Epoch 116, Training loss 0.07638188565415208\n",
            "2024-12-06 02:13:55.140647 Epoch 118, Training loss 0.06526643525768383\n",
            "2024-12-06 02:17:34.971457 Epoch 120, Training loss 0.0826708051197735\n",
            "2024-12-06 02:21:14.569393 Epoch 122, Training loss 0.08226896600749509\n",
            "2024-12-06 02:24:55.418524 Epoch 124, Training loss 0.06078940430933968\n",
            "2024-12-06 02:28:36.548344 Epoch 126, Training loss 0.06674742487122014\n",
            "2024-12-06 02:32:18.315418 Epoch 128, Training loss 0.0595076105454448\n",
            "2024-12-06 02:35:59.273167 Epoch 130, Training loss 0.07461814406881379\n",
            "2024-12-06 02:39:36.965488 Epoch 132, Training loss 0.05641847458237994\n",
            "2024-12-06 02:43:11.701555 Epoch 134, Training loss 0.0638364743021656\n",
            "2024-12-06 02:46:46.653274 Epoch 136, Training loss 0.06258848601772991\n",
            "2024-12-06 02:50:22.575566 Epoch 138, Training loss 0.05115569165653221\n",
            "2024-12-06 02:53:59.546695 Epoch 140, Training loss 0.06023697167204942\n",
            "2024-12-06 02:57:36.264269 Epoch 142, Training loss 0.05835536826461609\n",
            "2024-12-06 03:01:14.067144 Epoch 144, Training loss 0.05629971146283618\n",
            "2024-12-06 03:04:51.550999 Epoch 146, Training loss 0.06285511560985405\n",
            "2024-12-06 03:08:28.562621 Epoch 148, Training loss 0.050696236757079925\n",
            "2024-12-06 03:12:06.261105 Epoch 150, Training loss 0.04482217551043608\n",
            "2024-12-06 03:15:49.672494 Epoch 152, Training loss 0.04865353725981968\n",
            "2024-12-06 03:19:33.054328 Epoch 154, Training loss 0.04495530056117534\n",
            "2024-12-06 03:23:14.456131 Epoch 156, Training loss 0.0485410385821034\n",
            "2024-12-06 03:26:55.953946 Epoch 158, Training loss 0.037710620350828866\n",
            "2024-12-06 03:30:37.939522 Epoch 160, Training loss 0.04933337724128905\n",
            "2024-12-06 03:34:19.841517 Epoch 162, Training loss 0.062480747261345976\n",
            "2024-12-06 03:38:01.954812 Epoch 164, Training loss 0.0497193969925076\n",
            "2024-12-06 03:41:42.258359 Epoch 166, Training loss 0.04729860856808657\n",
            "2024-12-06 03:45:22.604214 Epoch 168, Training loss 0.048479450060473266\n",
            "2024-12-06 03:49:01.802463 Epoch 170, Training loss 0.04639968407253651\n",
            "2024-12-06 03:52:40.863644 Epoch 172, Training loss 0.043261677438745684\n",
            "2024-12-06 03:56:20.056452 Epoch 174, Training loss 0.04003840513621781\n",
            "2024-12-06 03:59:59.168774 Epoch 176, Training loss 0.035195671861294284\n",
            "2024-12-06 04:03:38.147866 Epoch 178, Training loss 0.03839791992448754\n",
            "2024-12-06 04:07:17.033474 Epoch 180, Training loss 0.032863686845169326\n",
            "2024-12-06 04:10:57.176853 Epoch 182, Training loss 0.04139448647053674\n",
            "2024-12-06 04:14:34.073460 Epoch 184, Training loss 0.058458757427581304\n",
            "2024-12-06 04:18:12.346170 Epoch 186, Training loss 0.04669784837908434\n",
            "2024-12-06 04:21:47.561005 Epoch 188, Training loss 0.03775710453400555\n",
            "2024-12-06 04:25:23.064477 Epoch 190, Training loss 0.04488440137523871\n",
            "2024-12-06 04:28:59.002397 Epoch 192, Training loss 0.03643591450499752\n",
            "2024-12-06 04:32:34.401286 Epoch 194, Training loss 0.03834545358347957\n",
            "2024-12-06 04:36:09.744503 Epoch 196, Training loss 0.03402768835934536\n",
            "2024-12-06 04:39:46.038623 Epoch 198, Training loss 0.023210203402965385\n",
            "2024-12-06 04:43:20.837135 Epoch 200, Training loss 0.026650905271755457\n",
            "time: 6h 25min 21s (started: 2024-12-05 22:17:59 -05:00)\n"
          ]
        }
      ],
      "source": [
        "model = NetResDeep(n_chans1=32, n_blocks=10).to(device=device)\n",
        "optimizer = optim.SGD(model.parameters(), lr=3e-3)\n",
        "loss_fn = nn.CrossEntropyLoss()\n",
        "training_loop(\n",
        "    epochs = 200,\n",
        "    optimizer = optimizer,\n",
        "    model = model,\n",
        "    loss_function = loss_fn,\n",
        "    training_loader = training_loader,\n",
        ")"
      ]
    },
    {
      "cell_type": "code",
      "execution_count": null,
      "metadata": {
        "id": "PIJFBOEjgyQi",
        "outputId": "ef94b0f3-2938-46f0-96da-7046d2450dff"
      },
      "outputs": [
        {
          "name": "stdout",
          "output_type": "stream",
          "text": [
            "time: 6.05 ms (started: 2024-12-06 04:43:20 -05:00)\n"
          ]
        }
      ],
      "source": [
        "train_loader = torch.utils.data.DataLoader(cifar10, batch_size=64,\n",
        "                                           shuffle=False)\n",
        "val_loader = torch.utils.data.DataLoader(cifar10_val, batch_size=64,\n",
        "                                         shuffle=False)\n",
        "def validate(model, train_loader, val_loader):\n",
        "    acc_dict = {}\n",
        "    predictions = []\n",
        "    exp_labels = []\n",
        "\n",
        "    for name, loader in [(\"train\", train_loader), (\"val\", val_loader)]:\n",
        "        correct = 0\n",
        "        total = 0\n",
        "\n",
        "        with torch.no_grad():\n",
        "            for imgs, labels in loader:\n",
        "                imgs = imgs.to(device=device)\n",
        "                labels = labels.to(device=device)\n",
        "                outputs = model(imgs)\n",
        "                _, predicted = torch.max(outputs, dim=1) # <1>\n",
        "                total += labels.shape[0]\n",
        "                correct += int((predicted == labels).sum())\n",
        "\n",
        "                predictions.extend(predicted.cpu().numpy())\n",
        "                exp_labels.extend(labels.cpu().numpy())\n",
        "\n",
        "        print(\"Accuracy {}: {:.2f}\".format(name , correct / total))\n",
        "        acc_dict[name] = correct / total\n",
        "    return acc_dict, predictions, exp_labels"
      ]
    },
    {
      "cell_type": "code",
      "execution_count": null,
      "metadata": {
        "id": "zCBagltmhCOe",
        "outputId": "03380cfb-c110-4de6-c9a2-cd6a8e168fc6"
      },
      "outputs": [
        {
          "name": "stdout",
          "output_type": "stream",
          "text": [
            "Accuracy train: 0.99\n",
            "Accuracy val: 0.66\n",
            "time: 33.2 s (started: 2024-12-06 04:43:20 -05:00)\n"
          ]
        }
      ],
      "source": [
        "accuracy, predictions, expected_labels = validate(model, train_loader, val_loader)"
      ]
    },
    {
      "cell_type": "code",
      "execution_count": null,
      "metadata": {
        "id": "Gb-PpnGyhPkc",
        "outputId": "16f25f6f-471c-4efb-bd4c-c8a929caeb07"
      },
      "outputs": [
        {
          "name": "stdout",
          "output_type": "stream",
          "text": [
            "              precision    recall  f1-score   support\n",
            "\n",
            "    airplane       0.93      0.94      0.94      5911\n",
            "  automobile       0.96      0.96      0.96      6023\n",
            "        bird       0.92      0.91      0.92      6053\n",
            "         cat       0.91      0.87      0.89      6246\n",
            "        deer       0.92      0.94      0.93      5924\n",
            "         dog       0.89      0.94      0.92      5710\n",
            "        frog       0.94      0.96      0.95      5925\n",
            "       horse       0.95      0.95      0.95      6004\n",
            "        ship       0.97      0.92      0.95      6320\n",
            "       truck       0.95      0.96      0.95      5884\n",
            "\n",
            "    accuracy                           0.94     60000\n",
            "   macro avg       0.94      0.94      0.94     60000\n",
            "weighted avg       0.94      0.94      0.94     60000\n",
            "\n",
            "time: 118 ms (started: 2024-12-06 04:43:54 -05:00)\n"
          ]
        }
      ],
      "source": [
        "print(classification_report(predictions, expected_labels, target_names=class_names))"
      ]
    },
    {
      "cell_type": "code",
      "execution_count": null,
      "metadata": {
        "id": "SNpZeqyvhQ6-",
        "outputId": "24c2418c-3d1d-4fd6-bb41-30dcae54c304"
      },
      "outputs": [
        {
          "data": {
            "image/png": "[encoded data removed]",
            "text/plain": [
              "<Figure size 800x600 with 2 Axes>"
            ]
          },
          "metadata": {},
          "output_type": "display_data"
        },
        {
          "name": "stdout",
          "output_type": "stream",
          "text": [
            "time: 321 ms (started: 2024-12-06 04:43:54 -05:00)\n"
          ]
        }
      ],
      "source": [
        "precision = precision_score(predictions, expected_labels, average='macro')\n",
        "recall = recall_score(predictions, expected_labels, average='macro')\n",
        "cnf_matrix = confusion_matrix(predictions, expected_labels)\n",
        "plt.figure(figsize=(8, 6))\n",
        "sns.heatmap(cnf_matrix, annot=True, cmap=\"viridis\", fmt='g',\n",
        "            xticklabels = class_names, yticklabels = class_names)\n",
        "plt.title('Resnet10 Confusion Matrix')\n",
        "plt.ylabel('True Label')\n",
        "plt.xlabel('Predicted Label')\n",
        "plt.xticks(rotation=45)\n",
        "plt.yticks(rotation=45)\n",
        "\n",
        "plt.show()"
      ]
    }
  ],
  "metadata": {
    "accelerator": "GPU",
    "colab": {
      "gpuType": "T4",
      "machine_shape": "hm",
      "provenance": [],
      "toc_visible": true,
      "include_colab_link": true
    },
    "kernelspec": {
      "display_name": "Python 3 (ipykernel)",
      "language": "python",
      "name": "python3"
    },
    "language_info": {
      "codemirror_mode": {
        "name": "ipython",
        "version": 3
      },
      "file_extension": ".py",
      "mimetype": "text/x-python",
      "name": "python",
      "nbconvert_exporter": "python",
      "pygments_lexer": "ipython3",
      "version": "3.12.6"
    }
  },
  "nbformat": 4,
  "nbformat_minor": 0
}